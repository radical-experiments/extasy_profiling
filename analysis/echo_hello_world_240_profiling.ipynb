{
 "cells": [
  {
   "cell_type": "code",
   "execution_count": 8,
   "metadata": {
    "ExecuteTime": {
     "end_time": "2020-06-04T17:10:05.429138Z",
     "start_time": "2020-06-04T17:10:04.570847Z"
    }
   },
   "outputs": [],
   "source": [
    "%matplotlib inline\n",
    "import matplotlib.pyplot as plt\n",
    "\n",
    "#%run 'bin/notebook_utils.py'\n",
    "#%run 'bin/plot_utilization.py'\n",
    "import matplotlib.ticker as mticker\n",
    "import radical.entk as re\n",
    "import radical.analytics as ra\n",
    "import radical.utils as ru\n",
    "import radical.pilot as rp"
   ]
  },
  {
   "cell_type": "code",
   "execution_count": 9,
   "metadata": {
    "ExecuteTime": {
     "end_time": "2020-06-04T17:10:05.434633Z",
     "start_time": "2020-06-04T17:10:05.431500Z"
    }
   },
   "outputs": [],
   "source": [
    "suds = ['extasy_profiling/data/raw_echo_hello_world/re.session.login3.hrlee.018405.0001']\n",
    "sdir = '../data/raw/'\n",
    "sids = [s for s in suds]"
   ]
  },
  {
   "cell_type": "code",
   "execution_count": 10,
   "metadata": {
    "ExecuteTime": {
     "end_time": "2020-06-04T17:10:30.416111Z",
     "start_time": "2020-06-04T17:10:05.437143Z"
    }
   },
   "outputs": [
    {
     "name": "stdout",
     "output_type": "stream",
     "text": [
      "WARNING: profile \"extasy_profiling/data/raw_echo_hello_world/re.session.login3.hrlee.018405.0001/radical.entk.resource_manager.0000.prof\" not correctly closed.\n",
      "WARNING: profile \"extasy_profiling/data/raw_echo_hello_world/re.session.login3.hrlee.018405.0001/pmgr_launching_queue.get.0000.prof\" not correctly closed.\n",
      "WARNING: profile \"extasy_profiling/data/raw_echo_hello_world/re.session.login3.hrlee.018405.0001/umgr_staging_output_queue.put.0000.prof\" not correctly closed.\n",
      "WARNING: profile \"extasy_profiling/data/raw_echo_hello_world/re.session.login3.hrlee.018405.0001/cmgr.0000.prof\" not correctly closed.\n",
      "WARNING: profile \"extasy_profiling/data/raw_echo_hello_world/re.session.login3.hrlee.018405.0001/umgr_staging_output_queue.prof\" not correctly closed.\n",
      "WARNING: profile \"extasy_profiling/data/raw_echo_hello_world/re.session.login3.hrlee.018405.0001/umgr_scheduling_queue.prof\" not correctly closed.\n",
      "WARNING: profile \"extasy_profiling/data/raw_echo_hello_world/re.session.login3.hrlee.018405.0001/state_pubsub.pub.0001.prof\" not correctly closed.\n",
      "WARNING: profile \"extasy_profiling/data/raw_echo_hello_world/re.session.login3.hrlee.018405.0001/umgr_staging_input_queue.get.0000.prof\" not correctly closed.\n",
      "WARNING: profile \"extasy_profiling/data/raw_echo_hello_world/re.session.login3.hrlee.018405.0001/umgr_staging_input_queue.put.0000.prof\" not correctly closed.\n",
      "WARNING: profile \"extasy_profiling/data/raw_echo_hello_world/re.session.login3.hrlee.018405.0001/heartbeat.pub.0002.prof\" not correctly closed.\n",
      "WARNING: profile \"extasy_profiling/data/raw_echo_hello_world/re.session.login3.hrlee.018405.0001/state_pubsub.prof\" not correctly closed.\n",
      "WARNING: profile \"extasy_profiling/data/raw_echo_hello_world/re.session.login3.hrlee.018405.0001/state_pubsub.sub.0000.prof\" not correctly closed.\n",
      "WARNING: profile \"extasy_profiling/data/raw_echo_hello_world/re.session.login3.hrlee.018405.0001/radical.entk.appmanager.0000.prof\" not correctly closed.\n",
      "session loaded\n",
      "WARNING: profile \"extasy_profiling/data/raw_echo_hello_world/re.session.login3.hrlee.018405.0001/radical.entk.resource_manager.0000.prof\" not correctly closed.\n",
      "WARNING: profile \"extasy_profiling/data/raw_echo_hello_world/re.session.login3.hrlee.018405.0001/pmgr_launching_queue.get.0000.prof\" not correctly closed.\n",
      "WARNING: profile \"extasy_profiling/data/raw_echo_hello_world/re.session.login3.hrlee.018405.0001/umgr_staging_output_queue.put.0000.prof\" not correctly closed.\n",
      "WARNING: profile \"extasy_profiling/data/raw_echo_hello_world/re.session.login3.hrlee.018405.0001/cmgr.0000.prof\" not correctly closed.\n",
      "WARNING: profile \"extasy_profiling/data/raw_echo_hello_world/re.session.login3.hrlee.018405.0001/umgr_staging_output_queue.prof\" not correctly closed.\n",
      "WARNING: profile \"extasy_profiling/data/raw_echo_hello_world/re.session.login3.hrlee.018405.0001/umgr_scheduling_queue.prof\" not correctly closed.\n",
      "WARNING: profile \"extasy_profiling/data/raw_echo_hello_world/re.session.login3.hrlee.018405.0001/state_pubsub.pub.0001.prof\" not correctly closed.\n",
      "WARNING: profile \"extasy_profiling/data/raw_echo_hello_world/re.session.login3.hrlee.018405.0001/umgr_staging_input_queue.get.0000.prof\" not correctly closed.\n",
      "WARNING: profile \"extasy_profiling/data/raw_echo_hello_world/re.session.login3.hrlee.018405.0001/umgr_staging_input_queue.put.0000.prof\" not correctly closed.\n",
      "WARNING: profile \"extasy_profiling/data/raw_echo_hello_world/re.session.login3.hrlee.018405.0001/heartbeat.pub.0002.prof\" not correctly closed.\n",
      "WARNING: profile \"extasy_profiling/data/raw_echo_hello_world/re.session.login3.hrlee.018405.0001/state_pubsub.prof\" not correctly closed.\n",
      "WARNING: profile \"extasy_profiling/data/raw_echo_hello_world/re.session.login3.hrlee.018405.0001/state_pubsub.sub.0000.prof\" not correctly closed.\n",
      "WARNING: profile \"extasy_profiling/data/raw_echo_hello_world/re.session.login3.hrlee.018405.0001/radical.entk.appmanager.0000.prof\" not correctly closed.\n",
      "session loaded\n",
      "WARNING: profile \"extasy_profiling/data/raw_echo_hello_world/re.session.login3.hrlee.018405.0001/radical.entk.resource_manager.0000.prof\" not correctly closed.\n",
      "WARNING: profile \"extasy_profiling/data/raw_echo_hello_world/re.session.login3.hrlee.018405.0001/pmgr_launching_queue.get.0000.prof\" not correctly closed.\n",
      "WARNING: profile \"extasy_profiling/data/raw_echo_hello_world/re.session.login3.hrlee.018405.0001/umgr_staging_output_queue.put.0000.prof\" not correctly closed.\n",
      "WARNING: profile \"extasy_profiling/data/raw_echo_hello_world/re.session.login3.hrlee.018405.0001/cmgr.0000.prof\" not correctly closed.\n",
      "WARNING: profile \"extasy_profiling/data/raw_echo_hello_world/re.session.login3.hrlee.018405.0001/umgr_staging_output_queue.prof\" not correctly closed.\n",
      "WARNING: profile \"extasy_profiling/data/raw_echo_hello_world/re.session.login3.hrlee.018405.0001/umgr_scheduling_queue.prof\" not correctly closed.\n",
      "WARNING: profile \"extasy_profiling/data/raw_echo_hello_world/re.session.login3.hrlee.018405.0001/state_pubsub.pub.0001.prof\" not correctly closed.\n",
      "WARNING: profile \"extasy_profiling/data/raw_echo_hello_world/re.session.login3.hrlee.018405.0001/umgr_staging_input_queue.get.0000.prof\" not correctly closed.\n",
      "WARNING: profile \"extasy_profiling/data/raw_echo_hello_world/re.session.login3.hrlee.018405.0001/umgr_staging_input_queue.put.0000.prof\" not correctly closed.\n",
      "WARNING: profile \"extasy_profiling/data/raw_echo_hello_world/re.session.login3.hrlee.018405.0001/heartbeat.pub.0002.prof\" not correctly closed.\n",
      "WARNING: profile \"extasy_profiling/data/raw_echo_hello_world/re.session.login3.hrlee.018405.0001/state_pubsub.prof\" not correctly closed.\n",
      "WARNING: profile \"extasy_profiling/data/raw_echo_hello_world/re.session.login3.hrlee.018405.0001/state_pubsub.sub.0000.prof\" not correctly closed.\n",
      "WARNING: profile \"extasy_profiling/data/raw_echo_hello_world/re.session.login3.hrlee.018405.0001/radical.entk.appmanager.0000.prof\" not correctly closed.\n",
      "session loaded\n",
      "WARNING: profile \"extasy_profiling/data/raw_echo_hello_world/re.session.login3.hrlee.018405.0001/radical.entk.resource_manager.0000.prof\" not correctly closed.\n",
      "WARNING: profile \"extasy_profiling/data/raw_echo_hello_world/re.session.login3.hrlee.018405.0001/pmgr_launching_queue.get.0000.prof\" not correctly closed.\n",
      "WARNING: profile \"extasy_profiling/data/raw_echo_hello_world/re.session.login3.hrlee.018405.0001/umgr_staging_output_queue.put.0000.prof\" not correctly closed.\n",
      "WARNING: profile \"extasy_profiling/data/raw_echo_hello_world/re.session.login3.hrlee.018405.0001/cmgr.0000.prof\" not correctly closed.\n",
      "WARNING: profile \"extasy_profiling/data/raw_echo_hello_world/re.session.login3.hrlee.018405.0001/umgr_staging_output_queue.prof\" not correctly closed.\n",
      "WARNING: profile \"extasy_profiling/data/raw_echo_hello_world/re.session.login3.hrlee.018405.0001/umgr_scheduling_queue.prof\" not correctly closed.\n",
      "WARNING: profile \"extasy_profiling/data/raw_echo_hello_world/re.session.login3.hrlee.018405.0001/state_pubsub.pub.0001.prof\" not correctly closed.\n",
      "WARNING: profile \"extasy_profiling/data/raw_echo_hello_world/re.session.login3.hrlee.018405.0001/umgr_staging_input_queue.get.0000.prof\" not correctly closed.\n",
      "WARNING: profile \"extasy_profiling/data/raw_echo_hello_world/re.session.login3.hrlee.018405.0001/umgr_staging_input_queue.put.0000.prof\" not correctly closed.\n",
      "WARNING: profile \"extasy_profiling/data/raw_echo_hello_world/re.session.login3.hrlee.018405.0001/heartbeat.pub.0002.prof\" not correctly closed.\n",
      "WARNING: profile \"extasy_profiling/data/raw_echo_hello_world/re.session.login3.hrlee.018405.0001/state_pubsub.prof\" not correctly closed.\n",
      "WARNING: profile \"extasy_profiling/data/raw_echo_hello_world/re.session.login3.hrlee.018405.0001/state_pubsub.sub.0000.prof\" not correctly closed.\n",
      "WARNING: profile \"extasy_profiling/data/raw_echo_hello_world/re.session.login3.hrlee.018405.0001/radical.entk.appmanager.0000.prof\" not correctly closed.\n",
      "session loaded\n",
      "WARNING: profile \"extasy_profiling/data/raw_echo_hello_world/re.session.login3.hrlee.018405.0001/radical.entk.resource_manager.0000.prof\" not correctly closed.\n",
      "WARNING: profile \"extasy_profiling/data/raw_echo_hello_world/re.session.login3.hrlee.018405.0001/pmgr_launching_queue.get.0000.prof\" not correctly closed.\n",
      "WARNING: profile \"extasy_profiling/data/raw_echo_hello_world/re.session.login3.hrlee.018405.0001/umgr_staging_output_queue.put.0000.prof\" not correctly closed.\n",
      "WARNING: profile \"extasy_profiling/data/raw_echo_hello_world/re.session.login3.hrlee.018405.0001/cmgr.0000.prof\" not correctly closed.\n",
      "WARNING: profile \"extasy_profiling/data/raw_echo_hello_world/re.session.login3.hrlee.018405.0001/umgr_staging_output_queue.prof\" not correctly closed.\n",
      "WARNING: profile \"extasy_profiling/data/raw_echo_hello_world/re.session.login3.hrlee.018405.0001/umgr_scheduling_queue.prof\" not correctly closed.\n",
      "WARNING: profile \"extasy_profiling/data/raw_echo_hello_world/re.session.login3.hrlee.018405.0001/state_pubsub.pub.0001.prof\" not correctly closed.\n",
      "WARNING: profile \"extasy_profiling/data/raw_echo_hello_world/re.session.login3.hrlee.018405.0001/umgr_staging_input_queue.get.0000.prof\" not correctly closed.\n",
      "WARNING: profile \"extasy_profiling/data/raw_echo_hello_world/re.session.login3.hrlee.018405.0001/umgr_staging_input_queue.put.0000.prof\" not correctly closed.\n",
      "WARNING: profile \"extasy_profiling/data/raw_echo_hello_world/re.session.login3.hrlee.018405.0001/heartbeat.pub.0002.prof\" not correctly closed.\n",
      "WARNING: profile \"extasy_profiling/data/raw_echo_hello_world/re.session.login3.hrlee.018405.0001/state_pubsub.prof\" not correctly closed.\n",
      "WARNING: profile \"extasy_profiling/data/raw_echo_hello_world/re.session.login3.hrlee.018405.0001/state_pubsub.sub.0000.prof\" not correctly closed.\n",
      "WARNING: profile \"extasy_profiling/data/raw_echo_hello_world/re.session.login3.hrlee.018405.0001/radical.entk.appmanager.0000.prof\" not correctly closed.\n",
      "session loaded\n"
     ]
    }
   ],
   "source": [
    "ss = {}\n",
    "for sid in suds:\n",
    "    sp = sid\n",
    "    ss[sid] = {'s': ra.Session(sp, 'radical.pilot')}\n",
    "    ss[sid].update({'p': ss[sid]['s'].filter(etype='pilot'   , inplace=False),\n",
    "                    'u': ss[sid]['s'].filter(etype='unit'    , inplace=False),\n",
    "                    't': ss[sid]['s'].filter(etype='task'    , inplace=False),\n",
    "                    'w': ss[sid]['s'].filter(etype='pipeline', inplace=False)})"
   ]
  },
  {
   "cell_type": "code",
   "execution_count": 11,
   "metadata": {
    "ExecuteTime": {
     "end_time": "2020-06-04T17:10:30.432316Z",
     "start_time": "2020-06-04T17:10:30.418626Z"
    }
   },
   "outputs": [],
   "source": [
    "for sid in suds:\n",
    "    ss[sid].update({'sid'   : ss[sid]['s'].uid,\n",
    "                    'pid'   : ss[sid]['p'].list('uid'),\n",
    "                    'npilot': len(ss[sid]['p'].get()),\n",
    "                    'lm'    : ss[sid]['s'].get(etype='pilot')[0].cfg['agent_launch_method'],\n",
    "                    'npact' : len(ss[sid]['p'].timestamps(state='PMGR_ACTIVE')),\n",
    "                    'nunit' : len(ss[sid]['u'].get()),\n",
    "                    'nudone': len(ss[sid]['u'].timestamps(state='DONE')),\n",
    "                    'nufail': len(ss[sid]['u'].timestamps(state='FAILED'))})\n",
    "    ss[sid].update({'pres'  : ss[sid]['p'].get(uid=ss[sid]['pid'])[0].description['resource'],\n",
    "                    'ncores': ss[sid]['p'].get(uid=ss[sid]['pid'])[0].description['cores'],\n",
    "                    'ngpus' : ss[sid]['p'].get(uid=ss[sid]['pid'])[0].description['gpus']})                  \n",
    "    ss[sid].update({'nnodes': ss[sid]['ngpus']/6})"
   ]
  },
  {
   "cell_type": "code",
   "execution_count": 12,
   "metadata": {
    "ExecuteTime": {
     "end_time": "2020-06-04T17:10:30.440928Z",
     "start_time": "2020-06-04T17:10:30.434284Z"
    }
   },
   "outputs": [
    {
     "name": "stdout",
     "output_type": "stream",
     "text": [
      "\n",
      "extasy_profiling/data/raw_echo_hello_world/re.session.login3.hrlee.018405.0001:\n",
      "\tName of the HPC platform: ornl.summit\n",
      "\tPilot launch method: JSRUN\n",
      "\tNumber of pilots requested: 1\n",
      "\tNumber of pilots active: 1\n",
      "\tNumber of requested cores: 1848\n",
      "\tNumber of requested GPUs: 240\n",
      "\tNumber of requested nodes: 40.0\n",
      "\tNumber of nodes asked by ENTK: 44\n",
      "\tNumber of tasks executed by EnTK: 240\n",
      "\tNumber of tasks successfully executed by EnTK: 240\n",
      "\tNumber of failed tasks: 0\n",
      "\n"
     ]
    }
   ],
   "source": [
    "for sid in suds:\n",
    "    print(\"\"\"\n",
    "%s:\n",
    "\\tName of the HPC platform: %s\n",
    "\\tPilot launch method: %s\n",
    "\\tNumber of pilots requested: %i\n",
    "\\tNumber of pilots active: %i\n",
    "\\tNumber of requested cores: %i\n",
    "\\tNumber of requested GPUs: %s\n",
    "\\tNumber of requested nodes: %s\n",
    "\\tNumber of nodes asked by ENTK: %i\n",
    "\\tNumber of tasks executed by EnTK: %i\n",
    "\\tNumber of tasks successfully executed by EnTK: %i\n",
    "\\tNumber of failed tasks: %i\n",
    "\"\"\" % (sid              , ss[sid]['pres']  , ss[sid]['lm'], \n",
    "       ss[sid]['npilot'], ss[sid]['npact'] , ss[sid]['ncores']/4, \n",
    "       ss[sid]['ngpus'] , ss[sid]['nnodes'], ss[sid]['ncores']/168, \n",
    "       ss[sid]['nunit'] , ss[sid]['nudone'], ss[sid]['nufail']))"
   ]
  },
  {
   "cell_type": "code",
   "execution_count": 13,
   "metadata": {
    "ExecuteTime": {
     "end_time": "2020-06-04T17:10:30.569070Z",
     "start_time": "2020-06-04T17:10:30.442777Z"
    }
   },
   "outputs": [],
   "source": [
    "for sid in suds:\n",
    "    w  = ss[sid]['w']\n",
    "    u  = ss[sid]['u']\n",
    "    t  = ss[sid]['t']\n",
    "    p  = ss[sid]['p']\n",
    "    p0 = p.get(uid=ss[sid]['pid'])[0]\n",
    "\n",
    "    ss[sid].update({\n",
    "      'ttc'  : p0.duration(event=[ {ru.EVENT: 'state'        , ru.STATE: rp.NEW                }, \n",
    "                                   {ru.EVENT: 'state'        , ru.STATE: rp.CANCELED           } ]),\n",
    "      'ttq_p': p0.duration(event=[ {ru.EVENT: 'state'        , ru.STATE: rp.PMGR_ACTIVE_PENDING}, \n",
    "                                   {ru.EVENT: 'state'        , ru.STATE: rp.PMGR_ACTIVE        } ]),\n",
    "      'ttx_w': w.duration( event=[ {ru.EVENT: 'state'        , ru.STATE: re.states.SCHEDULING  },\n",
    "                                   {ru.EVENT: 'state'        , ru.STATE: re.states.DONE        } ]),\n",
    "      'ttx_u': u.duration( event=[ {ru.EVENT: 'cu_exec_start', ru.STATE: None                  },      \n",
    "                                   {ru.EVENT: 'cu_exec_stop' , ru.STATE: None                  } ]),\n",
    "      'ttx_p': p0.duration(event=[ {ru.EVENT: 'state'        , ru.STATE: rp.PMGR_ACTIVE        },\n",
    "                                  [{ru.EVENT: 'state'        , ru.STATE: rp.DONE               },\n",
    "                                   {ru.EVENT: 'state'        , ru.STATE: rp.FAILED             },\n",
    "                                   {ru.EVENT: 'state'        , ru.STATE: rp.CANCELED           }]]),\n",
    "      'sub_t': t.duration( event=[ {ru.EVENT: 'state'        , ru.STATE: re.states.SCHEDULING  },\n",
    "                                   {ru.EVENT: 'state'        , ru.STATE: re.states.SUBMITTING  } ]),\n",
    "      'ttx_t': t.duration( event=[ {ru.EVENT: 'state'        , ru.STATE: re.states.SUBMITTING  },\n",
    "                                  [{ru.EVENT: 'state'        , ru.STATE: re.states.COMPLETED   },\n",
    "                                   {ru.EVENT: 'state'        , ru.STATE: re.states.CANCELED    },\n",
    "                                   {ru.EVENT: 'state'        , ru.STATE: re.states.FAILED      }]])})\n",
    "    \n",
    "    ss[sid].update({'ovh_rtc': ss[sid]['ttx_w'] - ss[sid]['ttx_u']})"
   ]
  },
  {
   "cell_type": "code",
   "execution_count": 19,
   "metadata": {
    "ExecuteTime": {
     "end_time": "2020-06-04T17:10:35.385682Z",
     "start_time": "2020-06-04T17:10:30.571505Z"
    }
   },
   "outputs": [
    {
     "data": {
      "text/plain": [
       "<matplotlib.legend.Legend at 0x7f08b1ea6278>"
      ]
     },
     "execution_count": 19,
     "metadata": {},
     "output_type": "execute_result"
    },
    {
     "data": {
      "image/png": "[encoded data removed]",
      "text/plain": [
       "<Figure size 1296x288 with 1 Axes>"
      ]
     },
     "metadata": {
      "needs_background": "light"
     },
     "output_type": "display_data"
    }
   ],
   "source": [
    "fwidth = 18\n",
    "fhight = 4\n",
    "fig, axarr = plt.subplots(1, 1, sharey=True, figsize=(fwidth, fhight))\n",
    "\n",
    "i = 0\n",
    "j = 'a'\n",
    "for sid in suds:\n",
    "    \n",
    "    ax = axarr\n",
    "    ax.title.set_text('%s/%s Tasks/Nodes' % (ss[sid]['nunit'], int(ss[sid]['nnodes'])))\n",
    "\n",
    "    ax.bar(x = 'OVH', height = ss[sid]['ovh_rtc'], color = 'r')\n",
    "    ax.bar(x = 'TTX', height = ss[sid]['ttx_u']  , color = 'b')\n",
    "    \n",
    "    ax.set_xlabel('(%s)' % j, labelpad=45)\n",
    "    \n",
    "    i = i+1\n",
    "    j = chr(ord(j) + 1)\n",
    "\n",
    "fig.text(0   ,  0.5 , 'Time (s)', va='center', rotation='vertical', fontsize=24)\n",
    "fig.text(0.5 , -0.05, 'Metric'  , ha='center', fontsize=24)\n",
    "fig.legend(['RADICAL Cybertools overhead (OVH)', 'Wokflow time to completion (TTX)'], loc='upper center', \n",
    "           bbox_to_anchor=(0.52, 1.6), fontsize=26, ncol=1)\n",
    "\n",
    "#plt.savefig('figures/extasy_aggregated_overheads.pdf', dpi=300, bbox_inches='tight')\n",
    "#plt.savefig('figures/extasy_aggregated_overheads.png', dpi=300, bbox_inches='tight')"
   ]
  },
  {
   "cell_type": "code",
   "execution_count": 17,
   "metadata": {
    "ExecuteTime": {
     "end_time": "2020-06-04T17:10:36.244946Z",
     "start_time": "2020-06-04T17:10:35.390183Z"
    }
   },
   "outputs": [],
   "source": [
    "from radical.pilot import states as rps\n",
    "\n",
    "for sid in suds:\n",
    "    u  = ss[sid]['u']\n",
    "\n",
    "    ss[sid].update({\n",
    "        'umgr_sched_queue'  : u.duration( event=[{ru.STATE: rps.NEW                        },\n",
    "                                                 {ru.STATE: rps.UMGR_SCHEDULING            } ]), \n",
    "        'umgr_stage_input'  : u.duration( event=[{ru.STATE: rps.UMGR_STAGING_INPUT_PENDING },\n",
    "                                                 {ru.STATE: rps.UMGR_STAGING_INPUT         } ]), \n",
    "        'agent_stage_input' : u.duration( event=[{ru.STATE: rps.AGENT_STAGING_INPUT_PENDING},\n",
    "                                                 {ru.STATE: rps.AGENT_SCHEDULING_PENDING   } ]), \n",
    "        'agent_sched_queue' : u.duration( event=[{ru.STATE: rps.AGENT_SCHEDULING_PENDING   },\n",
    "                                                 {ru.EVENT: 'schedule_ok'                  } ]), \n",
    "        'agent_exec_queue'  : u.duration( event=[{ru.EVENT: 'schedule_ok'                  },\n",
    "                                                 {ru.STATE: rps.AGENT_EXECUTING            } ]),\n",
    "        'agent_exec_prep'   : u.duration( event=[{ru.STATE: rps.AGENT_EXECUTING            },\n",
    "                                                 {ru.EVENT: 'exec_start'                   } ]),\n",
    "        'agent_exec_rp'     : u.duration( event=[{ru.EVENT: 'exec_start'                   },\n",
    "                                                 {ru.EVENT: 'cu_start'                     } ]),\n",
    "        'agent_exec_sh'     : u.duration( event=[{ru.EVENT: 'cu_start'                     },\n",
    "                                                 {ru.EVENT: 'cu_exec_start'                } ]),\n",
    "        'agent_exec_cmd'    : u.duration( event=[{ru.EVENT: 'cu_exec_start'                },\n",
    "                                                 {ru.EVENT: 'cu_exec_stop'                 } ]),\n",
    "        'agent_term_sh'     : u.duration( event=[{ru.EVENT: 'cu_exec_stop'                 },\n",
    "                                                 {ru.EVENT: 'cu_stop'                      } ]),\n",
    "        'agent_term_rp'     : u.duration( event=[{ru.EVENT: 'cu_stop'                      },\n",
    "                                                 {ru.EVENT: 'exec_stop'                    } ]),\n",
    "        'agent_unschedule'  : u.duration( event=[{ru.EVENT: 'exec_stop'                    },\n",
    "                                                 {ru.EVENT: 'unschedule_stop'              } ]),\n",
    "        'agent_stage_output': u.duration( event=[{ru.EVENT: 'unschedule_stop'              },\n",
    "                                                 {ru.STATE: rps.UMGR_STAGING_OUTPUT        } ])\n",
    "    })"
   ]
  },
  {
   "cell_type": "code",
   "execution_count": 18,
   "metadata": {
    "ExecuteTime": {
     "end_time": "2020-06-04T17:10:36.254035Z",
     "start_time": "2020-06-04T17:10:36.247653Z"
    }
   },
   "outputs": [
    {
     "name": "stdout",
     "output_type": "stream",
     "text": [
      "\n",
      "extasy_profiling/data/raw_echo_hello_world/re.session.login3.hrlee.018405.0001:\n",
      "\tumgr_sched_queue  : 0.9982748031616211\n",
      "\tumgr_stage_input  : 0.12742400169372559\n",
      "\tagent_stage_input : 1.8926756381988525\n",
      "\tagent_sched_queue : 0.2774806022644043\n",
      "\tagent_exec_queue  : 1.3770687580108643\n",
      "\tagent_exec_prep   : 2.876941204071045\n",
      "\tagent_exec_rp     : 0.04257011413574219\n",
      "\tagent_exec_sh     : 2.0\n",
      "\tagent_exec_cmd    : 3.0\n",
      "\tagent_term_sh     : 2.0\n",
      "\tagent_term_rp     : 3.3034963607788086\n",
      "\tagent_unschedule  : 1.5704586505889893\n",
      "\tagent_stage_output: 4.861029863357544\n",
      "\n"
     ]
    }
   ],
   "source": [
    "for sid in suds:\n",
    "    print(\"\"\"\n",
    "%s:\n",
    "\\tumgr_sched_queue  : %s\n",
    "\\tumgr_stage_input  : %s\n",
    "\\tagent_stage_input : %s\n",
    "\\tagent_sched_queue : %s\n",
    "\\tagent_exec_queue  : %s\n",
    "\\tagent_exec_prep   : %s\n",
    "\\tagent_exec_rp     : %s\n",
    "\\tagent_exec_sh     : %s\n",
    "\\tagent_exec_cmd    : %s\n",
    "\\tagent_term_sh     : %s\n",
    "\\tagent_term_rp     : %s\n",
    "\\tagent_unschedule  : %s\n",
    "\\tagent_stage_output: %s\n",
    "\"\"\" % (sid                         , \n",
    "       ss[sid]['umgr_sched_queue'] ,\n",
    "       ss[sid]['umgr_stage_input'] ,\n",
    "       ss[sid]['agent_stage_input'],\n",
    "       ss[sid]['agent_sched_queue'],\n",
    "       ss[sid]['agent_exec_queue'] , \n",
    "       ss[sid]['agent_exec_prep']  , \n",
    "       ss[sid]['agent_exec_rp']    , \n",
    "       ss[sid]['agent_exec_sh']    , \n",
    "       ss[sid]['agent_exec_cmd']   , \n",
    "       ss[sid]['agent_term_sh']    , \n",
    "       ss[sid]['agent_term_rp']    , \n",
    "       ss[sid]['agent_unschedule'] ,\n",
    "       ss[sid]['agent_stage_output']))"
   ]
  },
  {
   "cell_type": "code",
   "execution_count": 22,
   "metadata": {
    "ExecuteTime": {
     "end_time": "2020-06-04T17:10:42.076173Z",
     "start_time": "2020-06-04T17:10:36.256316Z"
    }
   },
   "outputs": [
    {
     "data": {
      "text/plain": [
       "Text(0.5, -0.8, 'Metric')"
      ]
     },
     "execution_count": 22,
     "metadata": {},
     "output_type": "execute_result"
    },
    {
     "data": {
      "image/png": "[encoded data removed]",
      "text/plain": [
       "<Figure size 1944x288 with 1 Axes>"
      ]
     },
     "metadata": {
      "needs_background": "light"
     },
     "output_type": "display_data"
    }
   ],
   "source": [
    "plt.rc('text', usetex=False)\n",
    "\n",
    "fwidth = 27\n",
    "fhight = 4\n",
    "fig, axarr = plt.subplots(1, len(suds), sharey=True, figsize=(fwidth, fhight))\n",
    "\n",
    "i = 0\n",
    "j = 'a'\n",
    "for sid in suds:\n",
    "    \n",
    "    ax = axarr\n",
    "    ax.title.set_text('%s/%s Tasks/Nodes' % (ss[sid]['nunit'], int(ss[sid]['nnodes'])))\n",
    "\n",
    "    ax.bar(x = 'umgr_sched_queue', height = ss[sid]['umgr_sched_queue'])#, color = tableau20[1])\n",
    "    ax.bar(x = 'umgr_stage_input', height = ss[sid]['umgr_stage_input'])#, color = tableau20[3])\n",
    "    ax.bar(x = 'agent_stage_input', height = ss[sid]['agent_stage_input'])#, color = tableau20[5])\n",
    "    ax.bar(x = 'agent_sched_queue', height = ss[sid]['agent_sched_queue'])#, color = tableau20[7])\n",
    "    ax.bar(x = 'agent_exec_queue', height = ss[sid]['agent_exec_queue'])#, color = tableau20[9])\n",
    "    ax.bar(x = 'agent_exec_prep', height = ss[sid]['agent_exec_prep'])#, color = tableau20[11])\n",
    "    ax.bar(x = 'agent_exec_rp', height = ss[sid]['agent_exec_rp'])#, color = tableau20[13])\n",
    "    ax.bar(x = 'agent_exec_sh', height = ss[sid]['agent_exec_sh'])#, color = tableau20[15])\n",
    "    ax.bar(x = 'agent_exec_cmd', height = ss[sid]['agent_exec_cmd'])#, color = tableau20[17])\n",
    "    ax.bar(x = 'agent_term_sh', height = ss[sid]['agent_term_sh'])#, color = tableau20[19])\n",
    "    ax.bar(x = 'agent_term_rp', height = ss[sid]['agent_term_rp'])#, color = tableau20[21])\n",
    "    ax.bar(x = 'agent_unschedule', height = ss[sid]['agent_unschedule'])#, color = tableau20[2])\n",
    "    ax.bar(x = 'agent_stage_output', height = ss[sid]['agent_stage_output'])#, color = tableau20[4])\n",
    "    \n",
    "    ax.set_xlabel('(%s)' % j, labelpad=45)\n",
    "    ax.tick_params(axis='x', labelrotation=90)\n",
    "    \n",
    "    i = i+1\n",
    "    j = chr(ord(j) + 1)\n",
    "\n",
    "fig.text(0.08,  0.5 , 'Time (s)', va='center', rotation='vertical', fontsize=24)\n",
    "fig.text(0.5 , -0.8, 'Metric'  , ha='center', fontsize=24)\n",
    "# fig.legend(['exec_queue', 'Wokflow time to completion (TTX)'], loc='upper center', \n",
    "#            bbox_to_anchor=(0.52, 1.6), fontsize=26, ncol=1)\n",
    "\n",
    "#plt.savefig('figures/extasy_detailed_overheads.pdf', dpi=300, bbox_inches='tight')\n",
    "#plt.savefig('figures/extasy_detailed_overheads.png', dpi=300, bbox_inches='tight')"
   ]
  },
  {
   "cell_type": "code",
   "execution_count": 19,
   "metadata": {
    "ExecuteTime": {
     "end_time": "2020-06-04T17:10:42.083242Z",
     "start_time": "2020-06-04T17:10:42.078236Z"
    }
   },
   "outputs": [],
   "source": [
    "metrics_default = [\n",
    "\n",
    "        # pilot overheads (global)\n",
    "        ['Pilot Startup',     ['boot', 'setup_1']],\n",
    "        ['Pilot Termination', ['term' ]],\n",
    "\n",
    "        # derived pilot durations\n",
    "        ['Agent Nodes',       ['agent']],\n",
    "        ['Warmup',            ['warm' ]],\n",
    "        ['Draining',          ['drain']],\n",
    "        ['Idle',              ['idle' ]],\n",
    "\n",
    "        # unit durations (PRTE)\n",
    "        ['Prepare Exec',      ['exec_queue', 'exec_prep']],\n",
    "        ['Exec RP',           ['exec_rp', 'exec_sh', 'term_sh', 'term_rp']],\n",
    "        ['Exec Cmd',          ['exec_cmd']],\n",
    "        ['Unschedule',        ['unschedule']],\n",
    "]"
   ]
  },
  {
   "cell_type": "code",
   "execution_count": 12,
   "metadata": {
    "ExecuteTime": {
     "end_time": "2020-06-04T17:10:44.996680Z",
     "start_time": "2020-06-04T17:10:42.085261Z"
    }
   },
   "outputs": [],
   "source": [
    "sobjs = ra.Experiment(sids, stype='radical.pilot')\n",
    "provided, consumed, stats_abs, stats_rel, info = sobjs.utilization(metrics=metrics_default)"
   ]
  },
  {
   "cell_type": "code",
   "execution_count": 13,
   "metadata": {
    "ExecuteTime": {
     "end_time": "2020-06-04T17:10:45.004749Z",
     "start_time": "2020-06-04T17:10:44.998650Z"
    }
   },
   "outputs": [],
   "source": [
    "# x-axis labels\n",
    "xkeys = list()\n",
    "\n",
    "# get the numbers we actually want to plot\n",
    "for session in sobjs.sessions:\n",
    "\n",
    "    n_units = len(session.get(etype='unit'))\n",
    "    \n",
    "    p_size = 0\n",
    "    for pilot in session.get(etype='pilot'):\n",
    "        p_size += pilot.description['cores']\n",
    "\n",
    "    xkeys.append('%s / %s' % (n_units, p_size))"
   ]
  },
  {
   "cell_type": "code",
   "execution_count": 14,
   "metadata": {
    "ExecuteTime": {
     "end_time": "2020-06-04T17:10:45.011671Z",
     "start_time": "2020-06-04T17:10:45.008135Z"
    }
   },
   "outputs": [],
   "source": [
    "def update_ticks(x, pos):\n",
    "    return int(x/4)"
   ]
  },
  {
   "cell_type": "code",
   "execution_count": null,
   "metadata": {
    "ExecuteTime": {
     "start_time": "2020-06-04T17:10:04.605Z"
    }
   },
   "outputs": [],
   "source": [
    "# core/gpu utilization over time (box plot)\n",
    "\n",
    "fwidth = 36\n",
    "fhight = 8\n",
    "fig, axarr = plt.subplots(1, len(suds), sharex='col', figsize=(fwidth, fhight))  # , sharey='row')\n",
    "\n",
    "i = 0\n",
    "j = 'a'\n",
    "for sid in suds:\n",
    "\n",
    "    ax = axarr[i]\n",
    "    cmap = mpl.cm.get_cmap('tab20c')\n",
    "\n",
    "    step = 1.0 / (len(metrics_default) + 1)\n",
    "    this = step / 1.0\n",
    "    legend = list()\n",
    "\n",
    "    x_min = None\n",
    "    x_max = None\n",
    "    y_min = None\n",
    "    y_max = None\n",
    "    \n",
    "    ax.title.set_text('%s/%s Tasks/Nodes' % (ss[sid]['nunit'], int(ss[sid]['nnodes'])))\n",
    "\n",
    "    for metric in metrics_default:\n",
    "\n",
    "        color = cmap(this)\n",
    "        this += step\n",
    "\n",
    "        legend.append(mpl.lines.Line2D([0], [0], color=color, lw=6))\n",
    "\n",
    "        if isinstance(metric, list):\n",
    "            name = metric[0]\n",
    "            parts = metric[1]\n",
    "        else:\n",
    "            name = metric\n",
    "            parts = [metric]\n",
    "\n",
    "        for part in parts:\n",
    "            for uid in consumed[sid][part]:\n",
    "                for block in consumed[sid][part][uid]:\n",
    "                    orig_x = block[0]\n",
    "                    orig_y = block[2] - 0.5\n",
    "                    width = block[1] - block[0]\n",
    "                    height = block[3] - block[2] + 1.0\n",
    "\n",
    "                    if x_min is None:\n",
    "                        x_min = orig_x\n",
    "                    if x_max is None:\n",
    "                        x_max = orig_x + width\n",
    "                    if y_min is None:\n",
    "                        y_min = orig_x\n",
    "                    if y_max is None:\n",
    "                        y_max = orig_x + height\n",
    "\n",
    "                    x_min = min(x_min, orig_x)\n",
    "                    y_min = min(y_min, orig_y)\n",
    "                    x_max = max(x_max, orig_x + width)\n",
    "                    y_max = max(y_max, orig_y + height)\n",
    "\n",
    "                    patch = mpl.patches.Rectangle((orig_x, orig_y),\n",
    "                                                  width, height,\n",
    "                                                  facecolor=color,\n",
    "                                                  edgecolor='black',\n",
    "                                                  fill=True, lw=0.0)\n",
    "                    ax.add_patch(patch)\n",
    "\n",
    "    ax.set_xlim([x_min, x_max])\n",
    "    ax.set_ylim([y_min, y_max])\n",
    "    \n",
    "    ax.set_xlabel('(%s)' % j, labelpad=45)\n",
    "    ax.yaxis.set_major_formatter(mticker.FuncFormatter(update_ticks))\n",
    "\n",
    "    i = i+1\n",
    "    j = chr(ord(j) + 1)\n",
    "\n",
    "# Add common axes lables\n",
    "fig.text(0.07,  0.5, 'Core ID' , va='center', rotation='vertical', fontsize=24)\n",
    "fig.text(0.5 , -0.1, 'Time (s)', ha='center', fontsize=24)\n",
    "    \n",
    "# Add legend\n",
    "fig.legend(legend, [m[0] for m in metrics_default], loc='upper center', \n",
    "           bbox_to_anchor=(0.45, 1.7), fontsize=26, ncol=4)\n",
    "\n",
    "plt.savefig('figures/extasy_ru.pdf', dpi=300, bbox_inches='tight')\n",
    "plt.savefig('figures/extasy_ru.png', dpi=300, bbox_inches='tight')"
   ]
  },
  {
   "cell_type": "code",
   "execution_count": null,
   "metadata": {},
   "outputs": [],
   "source": []
  }
 ],
 "metadata": {
  "kernelspec": {
   "display_name": "Python 3",
   "language": "python",
   "name": "python3"
  },
  "language_info": {
   "codemirror_mode": {
    "name": "ipython",
    "version": 3
   },
   "file_extension": ".py",
   "mimetype": "text/x-python",
   "name": "python",
   "nbconvert_exporter": "python",
   "pygments_lexer": "ipython3",
   "version": "3.6.10"
  }
 },
 "nbformat": 4,
 "nbformat_minor": 4
}
